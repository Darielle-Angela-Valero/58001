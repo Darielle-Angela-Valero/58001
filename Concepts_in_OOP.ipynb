{
  "nbformat": 4,
  "nbformat_minor": 0,
  "metadata": {
    "colab": {
      "provenance": [],
      "authorship_tag": "ABX9TyNHDuXjx8kKdZycX0tfnsva",
      "include_colab_link": true
    },
    "kernelspec": {
      "name": "python3",
      "display_name": "Python 3"
    },
    "language_info": {
      "name": "python"
    }
  },
  "cells": [
    {
      "cell_type": "markdown",
      "metadata": {
        "id": "view-in-github",
        "colab_type": "text"
      },
      "source": [
        "<a href=\"https://colab.research.google.com/github/Darielle-Angela-Valero/OOP-58001/blob/main/Concepts_in_OOP.ipynb\" target=\"_parent\"><img src=\"https://colab.research.google.com/assets/colab-badge.svg\" alt=\"Open In Colab\"/></a>"
      ]
    },
    {
      "cell_type": "code",
      "execution_count": 1,
      "metadata": {
        "id": "MkpuK6PDOpc6"
      },
      "outputs": [],
      "source": [
        "#Class Constructor\n",
        "class Car:\n",
        "  pass"
      ]
    },
    {
      "cell_type": "code",
      "source": [
        "#Create a class\n",
        "\n",
        "class MyNumber:\n",
        "  x = 5\n",
        "\n",
        "num1 = MyNumber()\n",
        "print(num1.x)"
      ],
      "metadata": {
        "colab": {
          "base_uri": "https://localhost:8080/"
        },
        "id": "iFEA3f39PZ7e",
        "outputId": "d40d9ca6-0306-4479-9a19-cb6a40061859"
      },
      "execution_count": 4,
      "outputs": [
        {
          "output_type": "stream",
          "name": "stdout",
          "text": [
            "5\n"
          ]
        }
      ]
    },
    {
      "cell_type": "code",
      "source": [
        "class Person: \n",
        "  def __init__(self,name,age):\n",
        "    self.name = name\n",
        "    self.age = age\n",
        "person = Person(\"Dar\",18 )\n",
        "print(person.age)\n",
        "print(person.name)"
      ],
      "metadata": {
        "colab": {
          "base_uri": "https://localhost:8080/"
        },
        "id": "Mb_GlQ-lP46R",
        "outputId": "b4a75f05-c89f-45bc-dba9-62f8d02af6d5"
      },
      "execution_count": 11,
      "outputs": [
        {
          "output_type": "stream",
          "name": "stdout",
          "text": [
            "18\n",
            "Dar\n"
          ]
        }
      ]
    },
    {
      "cell_type": "code",
      "source": [
        "class Person: \n",
        "  def __init__(self,name,age):\n",
        "    self.name = name\n",
        "    self.age = age\n",
        "  def myFunction(self):\n",
        "    print(\"Hello, my name is\",self.name)\n",
        "person = Person(\"Dar\",18 )\n",
        "\n",
        "person.myFunction()"
      ],
      "metadata": {
        "colab": {
          "base_uri": "https://localhost:8080/"
        },
        "outputId": "335f282d-9d74-4c21-e428-23122e2a3cbf",
        "id": "hA1D9PW0RVc6"
      },
      "execution_count": 12,
      "outputs": [
        {
          "output_type": "stream",
          "name": "stdout",
          "text": [
            "Hello, my name is Dar\n"
          ]
        }
      ]
    },
    {
      "cell_type": "code",
      "source": [
        "#Modify the Object Properties\n",
        "\n",
        "person.name = \"Angela\"\n",
        "print(person.name)\n",
        "person.myFunction()"
      ],
      "metadata": {
        "colab": {
          "base_uri": "https://localhost:8080/"
        },
        "id": "9AC-iIEBRpYW",
        "outputId": "d5af1b9d-7b80-41bb-cef6-48c2eae49e9a"
      },
      "execution_count": 13,
      "outputs": [
        {
          "output_type": "stream",
          "name": "stdout",
          "text": [
            "Angela\n",
            "Hello, my name is Angela\n"
          ]
        }
      ]
    },
    {
      "cell_type": "code",
      "source": [
        "#Deletion of Object Properties\n",
        "\n",
        "del person.age\n",
        "person.myFunction()\n",
        "print(person.name)"
      ],
      "metadata": {
        "id": "-1kQXa06R_MI"
      },
      "execution_count": null,
      "outputs": []
    },
    {
      "cell_type": "code",
      "source": [
        "class Shapes:\n",
        "  def __init__(self,side):    #initial function to name the attributes\n",
        "    self.side = side\n",
        "\n",
        "  def area(self):             #method/formula to compute for the area of a square\n",
        "    return self.side*self.side\n",
        "  \n",
        "  def display(self):          #method to display the area\n",
        "    print(\"the area of the square is\",self.area())\n",
        "\n",
        "square = Shapes(4)\n",
        "square.display()\n"
      ],
      "metadata": {
        "colab": {
          "base_uri": "https://localhost:8080/"
        },
        "id": "xBYpj4HGU6E8",
        "outputId": "e67d7fa2-451d-4b4e-9670-d333b46b47f0"
      },
      "execution_count": 17,
      "outputs": [
        {
          "output_type": "stream",
          "name": "stdout",
          "text": [
            "the area of the square is 16\n"
          ]
        }
      ]
    },
    {
      "cell_type": "code",
      "source": [
        "#Create a Python program with the following\n",
        "#Student as class name\n",
        "#Fullname, Student Number, and School as attribute names\n",
        "#Construct a method to display the values of attributes\n",
        "#Use student as object name\n",
        "\n",
        "class Student:\n",
        "  def __init__(self,fullname,sn,school):\n",
        "    self.fullname = fullname\n",
        "    self.sn = sn\n",
        "    self.school = school\n",
        "person.fullname = \"Darielle Angela Valero\"\n",
        "print(person.fullname)\n",
        "person.sn = 202213478\n",
        "print(person.sn)\n",
        "person.school = \"Adamson University\"\n",
        "print(person.school)\n",
        "\n"
      ],
      "metadata": {
        "colab": {
          "base_uri": "https://localhost:8080/"
        },
        "id": "MSu9t6OMVIBx",
        "outputId": "79417b00-18b8-4296-f30e-12e1a1795f8e"
      },
      "execution_count": 29,
      "outputs": [
        {
          "output_type": "stream",
          "name": "stdout",
          "text": [
            "Darielle Angela Valero\n",
            "202213478\n",
            "Adamson University\n"
          ]
        }
      ]
    }
  ]
}