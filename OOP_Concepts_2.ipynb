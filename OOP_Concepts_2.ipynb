{
  "nbformat": 4,
  "nbformat_minor": 0,
  "metadata": {
    "colab": {
      "provenance": [],
      "authorship_tag": "ABX9TyM5yXSXzkHUNr7XaLDXr7qF",
      "include_colab_link": true
    },
    "kernelspec": {
      "name": "python3",
      "display_name": "Python 3"
    },
    "language_info": {
      "name": "python"
    }
  },
  "cells": [
    {
      "cell_type": "markdown",
      "metadata": {
        "id": "view-in-github",
        "colab_type": "text"
      },
      "source": [
        "<a href=\"https://colab.research.google.com/github/Darielle-Angela-Valero/OOP-58001/blob/main/OOP_Concepts_2.ipynb\" target=\"_parent\"><img src=\"https://colab.research.google.com/assets/colab-badge.svg\" alt=\"Open In Colab\"/></a>"
      ]
    },
    {
      "cell_type": "code",
      "execution_count": 4,
      "metadata": {
        "colab": {
          "base_uri": "https://localhost:8080/"
        },
        "id": "Jancmc5tVkCv",
        "outputId": "91629289-6f00-4c5b-89bd-0fd5b87ba38a"
      },
      "outputs": [
        {
          "output_type": "stream",
          "name": "stdout",
          "text": [
            "Griffon Vultureflies above clouds\n",
            "Common Craneflies above clouds\n",
            "Emu is the national bird of the Philippines\n"
          ]
        }
      ],
      "source": [
        "#Class with multiple objects\n",
        "class Birds:\n",
        "  def __init__(self, bird_name):\n",
        "    self.bird_name = bird_name\n",
        "  def flying_birds(self):\n",
        "    print(f\"{self.bird_name}flies above clouds\")\n",
        "  def non_flying_birds(self):\n",
        "    print(f\"{self.bird_name} is the national bird of the Philippines\")\n",
        "\n",
        "Vulture = Birds(\"Griffon Vulture\")\n",
        "crane = Birds(\"Common Crane\")\n",
        "emu = Birds(\"Emu\")\n",
        "\n",
        "Vulture.flying_birds()\n",
        "crane.flying_birds()\n",
        "emu.non_flying_birds()"
      ]
    },
    {
      "cell_type": "code",
      "source": [
        "#Encapsulation\n",
        "class foo:\n",
        "  def __init__(self, a, b):\n",
        "    self.__a = a\n",
        "    self.__b = b\n",
        "  def add(self):\n",
        "    return self.__a + self.__b\n",
        "\n",
        "foo_object = foo(3,4)\n",
        "foo_object.add()\n",
        "foo_object.a = 5\n",
        "foo_object.add()"
      ],
      "metadata": {
        "colab": {
          "base_uri": "https://localhost:8080/"
        },
        "id": "7KvLv3L5ZbAK",
        "outputId": "f1392866-bdf9-4cdd-9c2e-899469de1be4"
      },
      "execution_count": 9,
      "outputs": [
        {
          "output_type": "execute_result",
          "data": {
            "text/plain": [
              "7"
            ]
          },
          "metadata": {},
          "execution_count": 9
        }
      ]
    },
    {
      "cell_type": "code",
      "source": [
        "class Counter:\n",
        "  def __init__(self):\n",
        "    self.current = 0\n",
        "\n",
        "  def increment(self):\n",
        "    self.current += 1\n",
        "\n",
        "  def value(self):\n",
        "    return self.current\n",
        "\n",
        "  def resert(self):\n",
        "    self.current = 0\n",
        "\n",
        "  "
      ],
      "metadata": {
        "id": "zoOPlVVbZ6m5"
      },
      "execution_count": 10,
      "outputs": []
    },
    {
      "cell_type": "code",
      "source": [
        "#Inheritance\n",
        "\n",
        "class Person:\n",
        "  def __init__(self,name,birthdate):\n",
        "    self.name = name\n",
        "    self.birthdate = birthdate\n",
        "  def display(self):\n",
        "    print(f\"My name is\",self.name)\n",
        "    print(f\"Birthdate:\",self.birthdate)\n",
        "class Student(Person):\n",
        "  pass \n",
        "class Teacher(Person):\n",
        "  pass\n",
        "student = Student(\"Angela\",\"July 17,1996\")\n",
        "student.display()\n",
        "teacher = Teacher(\"Ochie\",\"April 29, 1876\")\n",
        "teacher.display()\n",
        "\n",
        " "
      ],
      "metadata": {
        "colab": {
          "base_uri": "https://localhost:8080/"
        },
        "id": "u56nDguJeKTA",
        "outputId": "4116a4e6-d00e-4e68-d8bd-48a4a29bf471"
      },
      "execution_count": 15,
      "outputs": [
        {
          "output_type": "stream",
          "name": "stdout",
          "text": [
            "My name is Angela\n",
            "Birthdate: July 17,1996\n",
            "My name is Ochie\n",
            "Birthdate: April 29, 1876\n"
          ]
        }
      ]
    },
    {
      "cell_type": "code",
      "source": [
        "#create a class name Shapes (5 shapes)\n",
        "#attributes sides\n",
        "#create a function/method that displays the no. of sides of the shape\n",
        "#apply inheritance and encapsulation\n",
        "\n",
        "class Shapes:\n",
        "  def __init__(self,name,sides):\n",
        "    self.__sides = sides\n",
        "    self.__name = name\n",
        "  def display(self):\n",
        "    print(\"A\",self.__name,\"has\",self.__sides,\"sides\")\n",
        "\n",
        "class Square(Shapes):\n",
        "  pass\n",
        "class Pentagon(Shapes):\n",
        "  pass\n",
        "class Hexagon(Shapes):\n",
        "  pass\n",
        "class Heptagon(Shapes):\n",
        "  pass\n",
        "class Octagon(Shapes):\n",
        "  pass\n",
        "\n",
        "square = Square(\"square\",4)\n",
        "square.display()\n",
        "pentagon = Pentagon(\"pentagon\",5)\n",
        "pentagon.display()\n",
        "hexagon = Hexagon(\"hexagon\", 6)\n",
        "hexagon.display()\n",
        "heptagon = Heptagon(\"heptagon\", 7)\n",
        "heptagon.display()\n",
        "octagon = Octagon(\"octagon\", 8)\n",
        "octagon.display()\n",
        "  "
      ],
      "metadata": {
        "colab": {
          "base_uri": "https://localhost:8080/"
        },
        "id": "PlLd9W-GgyhI",
        "outputId": "5c23c619-1f0d-4597-dc0a-dcf5b7edb595"
      },
      "execution_count": 25,
      "outputs": [
        {
          "output_type": "stream",
          "name": "stdout",
          "text": [
            "A square has 4 sides\n",
            "A pentagon has 5 sides\n",
            "A hexagon has 6 sides\n",
            "A heptagon has 7 sides\n",
            "A octagon has 8 sides\n"
          ]
        }
      ]
    }
  ]
}