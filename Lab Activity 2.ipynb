{
  "nbformat": 4,
  "nbformat_minor": 0,
  "metadata": {
    "colab": {
      "provenance": [],
      "authorship_tag": "ABX9TyMko5avkEdxPh+cV8FcbzqV",
      "include_colab_link": true
    },
    "kernelspec": {
      "name": "python3",
      "display_name": "Python 3"
    },
    "language_info": {
      "name": "python"
    }
  },
  "cells": [
    {
      "cell_type": "markdown",
      "metadata": {
        "id": "view-in-github",
        "colab_type": "text"
      },
      "source": [
        "<a href=\"https://colab.research.google.com/github/Darielle-Angela-Valero/OOP-58001/blob/main/Lab%20Activity%202.ipynb\" target=\"_parent\"><img src=\"https://colab.research.google.com/assets/colab-badge.svg\" alt=\"Open In Colab\"/></a>"
      ]
    },
    {
      "cell_type": "code",
      "source": [
        "class Circle:\n",
        "  def __init__(self,r):\n",
        "    self.radius = r\n",
        "  def area(self):\n",
        "    return self.radius**2*3.14\n",
        "  def perimeter(self):\n",
        "    return 2*self.radius*3.14\n",
        "  def display(self):\n",
        "     print(\"area is\", self.area())\n",
        "     print(\"perimeter is\", self.perimeter())\n",
        "newcirc = Circle(float(input(\"Enter radius:\")))\n",
        "newcirc.display()"
      ],
      "metadata": {
        "colab": {
          "base_uri": "https://localhost:8080/"
        },
        "id": "6D9JZjSTz_WP",
        "outputId": "55020717-24ae-470f-cd2c-1f70740f3973"
      },
      "execution_count": 38,
      "outputs": [
        {
          "output_type": "stream",
          "name": "stdout",
          "text": [
            "Enter radius:17\n",
            "area is 907.46\n",
            "perimeter is 106.76\n"
          ]
        }
      ]
    }
  ]
}