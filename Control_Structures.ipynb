{
  "nbformat": 4,
  "nbformat_minor": 0,
  "metadata": {
    "colab": {
      "provenance": [],
      "authorship_tag": "ABX9TyMBZSoMfNiMO7MtrEmIkv4u",
      "include_colab_link": true
    },
    "kernelspec": {
      "name": "python3",
      "display_name": "Python 3"
    },
    "language_info": {
      "name": "python"
    }
  },
  "cells": [
    {
      "cell_type": "markdown",
      "metadata": {
        "id": "view-in-github",
        "colab_type": "text"
      },
      "source": [
        "<a href=\"https://colab.research.google.com/github/Darielle-Angela-Valero/OOP-58001/blob/main/Control_Structures.ipynb\" target=\"_parent\"><img src=\"https://colab.research.google.com/assets/colab-badge.svg\" alt=\"Open In Colab\"/></a>"
      ]
    },
    {
      "cell_type": "markdown",
      "source": [
        "Conditional *Statement*"
      ],
      "metadata": {
        "id": "712w6yi5E3e5"
      }
    },
    {
      "cell_type": "code",
      "source": [
        "#if statement\n",
        "a = 12\n",
        "b = 100\n",
        "if b>a:\n",
        " print(\"b is greater than a\")\n",
        "\n",
        " if 5>2:\n",
        "   print(\" five is greater than two\")"
      ],
      "metadata": {
        "colab": {
          "base_uri": "https://localhost:8080/"
        },
        "id": "XS9pvkBJE5lw",
        "outputId": "b60f0db3-3f60-4d2a-d453-8dd55b9db103"
      },
      "execution_count": 4,
      "outputs": [
        {
          "output_type": "stream",
          "name": "stdout",
          "text": [
            "b is greater than a\n",
            " five is greater than two\n"
          ]
        }
      ]
    },
    {
      "cell_type": "code",
      "source": [
        "#elif statement\n",
        "a = 12\n",
        "b = 12\n",
        "if b>a:\n",
        "  print(\"b is greater than a\")\n",
        "elif a==b:\n",
        "  print(\"a and b are equal\")\n",
        "\n",
        "  x = int(input())\n",
        "  y = int(input())\n",
        "\n",
        "  if x > y:\n",
        "    print(\"x is greater than y\")\n",
        "\n",
        "\n"
      ],
      "metadata": {
        "colab": {
          "base_uri": "https://localhost:8080/"
        },
        "id": "blrTzTjIF08A",
        "outputId": "44e5c5f6-6ce2-4df4-a3c7-9b72ead8d485"
      },
      "execution_count": 12,
      "outputs": [
        {
          "output_type": "stream",
          "name": "stdout",
          "text": [
            "a and b are equal\n",
            "5\n",
            "2\n",
            "x is greater than y\n"
          ]
        }
      ]
    },
    {
      "cell_type": "code",
      "source": [
        "#Elif statement\n",
        "a = 100\n",
        "b = 50\n",
        "\n",
        "if a>b:\n",
        "  print(\"a is greater than b\")\n",
        "elif b>a:\n",
        "  print(\"b is greater than a\")"
      ],
      "metadata": {
        "colab": {
          "base_uri": "https://localhost:8080/"
        },
        "id": "1zylLs_yHpEa",
        "outputId": "6760e953-350b-4c45-dede-9927af57de6c"
      },
      "execution_count": 13,
      "outputs": [
        {
          "output_type": "stream",
          "name": "stdout",
          "text": [
            "a is greater than b\n"
          ]
        }
      ]
    },
    {
      "cell_type": "code",
      "source": [
        "#Else statement\n",
        "if a>b:\n",
        "  print(\"a is greater than b\")\n",
        "elif b>a:\n",
        "  print(\"b is greater than a\")\n",
        "else:\n",
        "  print(\"a and b are equal\")"
      ],
      "metadata": {
        "colab": {
          "base_uri": "https://localhost:8080/"
        },
        "id": "jKRn1XnTIFYS",
        "outputId": "eb51f39d-a20b-41fd-93aa-bc619b79df9b"
      },
      "execution_count": 14,
      "outputs": [
        {
          "output_type": "stream",
          "name": "stdout",
          "text": [
            "a is greater than b\n"
          ]
        }
      ]
    },
    {
      "cell_type": "markdown",
      "source": [
        "Nested If"
      ],
      "metadata": {
        "id": "PaJzIblTJXzq"
      }
    },
    {
      "cell_type": "code",
      "source": [
        "x = 41\n",
        "if x > 10:\n",
        "  print(\"Above ten,\")\n",
        "else:\n",
        "  print(\"but not above ten\")\n",
        "if x > 20:\n",
        "  print(\"and also above 20!\")\n",
        "else:\n",
        "  print(\"but not above 20!\")\n",
        "if x > 30:\n",
        "  print(\"and also above 30!\")\n",
        "else:\n",
        "  print(\"but not above 30!\")\n",
        "if x > 40:\n",
        "  print(\"and also above 40!\")\n",
        "else:\n",
        "  print(\"but not above 40!\")\n",
        "if x < 50:\n",
        "  print(\"below 50\")\n",
        "else:\n",
        "  print(\"but not above 50\")\n",
        "  "
      ],
      "metadata": {
        "colab": {
          "base_uri": "https://localhost:8080/"
        },
        "id": "ZZJ24RCFJZBS",
        "outputId": "6b2c0428-5219-45b1-c2dc-b49974fb9bff"
      },
      "execution_count": 72,
      "outputs": [
        {
          "output_type": "stream",
          "name": "stdout",
          "text": [
            "Above ten,\n",
            "and also above 20!\n",
            "and also above 30!\n",
            "and also above 40!\n",
            "below 50\n"
          ]
        }
      ]
    },
    {
      "cell_type": "markdown",
      "source": [
        "Example 1"
      ],
      "metadata": {
        "id": "aZxB4DCFL44B"
      }
    },
    {
      "cell_type": "code",
      "source": [
        "x = int(input())\n",
        "\n",
        "if x>=18:\n",
        "  print(\"Qualified to vote\")\n",
        "if x<18:\n",
        "  print(\"Not Qualified to vote\")"
      ],
      "metadata": {
        "colab": {
          "base_uri": "https://localhost:8080/"
        },
        "id": "0oi8T8DML6Ap",
        "outputId": "85e00cf9-2e35-4205-dc1d-0e9f6d1ae6e5"
      },
      "execution_count": 33,
      "outputs": [
        {
          "output_type": "stream",
          "name": "stdout",
          "text": [
            "56\n",
            "Qualified to vote\n"
          ]
        }
      ]
    },
    {
      "cell_type": "markdown",
      "source": [
        "Example 2"
      ],
      "metadata": {
        "id": "dX-D_8a1MOqC"
      }
    },
    {
      "cell_type": "code",
      "source": [
        "x = int(input())\n",
        "if x>0:\n",
        "  print(\"POSITIVE\")\n",
        "elif x<0:\n",
        "  print(\"NEGATIVE\")\n",
        "else:\n",
        "  print(\"ZERO\")\n"
      ],
      "metadata": {
        "colab": {
          "base_uri": "https://localhost:8080/"
        },
        "id": "4msuYjrbMQTy",
        "outputId": "0ac18400-a2ad-4563-c4b6-eb06124c66e9"
      },
      "execution_count": 48,
      "outputs": [
        {
          "output_type": "stream",
          "name": "stdout",
          "text": [
            "9\n",
            "POSITIVE\n"
          ]
        }
      ]
    },
    {
      "cell_type": "markdown",
      "source": [
        "Example 3"
      ],
      "metadata": {
        "id": "0Le25cyqMQqC"
      }
    },
    {
      "cell_type": "code",
      "source": [
        "grade = float(input())\n",
        "if grade>=70:\n",
        "  print(\"PASSED\")\n",
        "elif grade<70 and grade>=64:\n",
        "  print(\"REMEDIAL\")\n",
        "elif grade<0:\n",
        "  print(\"Not Accepted\")\n",
        "else:\n",
        "  print(\"FAILED\")\n",
        " \n"
      ],
      "metadata": {
        "colab": {
          "base_uri": "https://localhost:8080/"
        },
        "id": "yAgQly-IMSHJ",
        "outputId": "65a21770-32ae-4718-e96e-1dceede75cad"
      },
      "execution_count": 69,
      "outputs": [
        {
          "output_type": "stream",
          "name": "stdout",
          "text": [
            "-9\n",
            "Not Accepted\n"
          ]
        }
      ]
    }
  ]
}