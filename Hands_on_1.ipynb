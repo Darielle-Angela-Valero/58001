{
  "nbformat": 4,
  "nbformat_minor": 0,
  "metadata": {
    "colab": {
      "provenance": [],
      "authorship_tag": "ABX9TyNKURibpYEOU5Onp1/8wMtB",
      "include_colab_link": true
    },
    "kernelspec": {
      "name": "python3",
      "display_name": "Python 3"
    },
    "language_info": {
      "name": "python"
    }
  },
  "cells": [
    {
      "cell_type": "markdown",
      "metadata": {
        "id": "view-in-github",
        "colab_type": "text"
      },
      "source": [
        "<a href=\"https://colab.research.google.com/github/Darielle-Angela-Valero/OOP-58001/blob/main/Hands_on_1.ipynb\" target=\"_parent\"><img src=\"https://colab.research.google.com/assets/colab-badge.svg\" alt=\"Open In Colab\"/></a>"
      ]
    },
    {
      "cell_type": "code",
      "execution_count": 23,
      "metadata": {
        "colab": {
          "base_uri": "https://localhost:8080/"
        },
        "outputId": "2e803ac8-3d49-424c-8c81-3a118e4f8db4",
        "id": "xtkdMhHDgAqZ"
      },
      "outputs": [
        {
          "output_type": "stream",
          "name": "stdout",
          "text": [
            "Student 1: 90 98 96\n",
            "Term Grade: 94.66666666666667\n",
            "Student 2: 80 86 89\n",
            "Term Grade: 85.0\n",
            "Student 3: 70 76 78\n",
            "Term Grade: 74.66666666666667\n"
          ]
        }
      ],
      "source": [
        "class Person:\n",
        "  def __init__(self,name,pre,mid,fin):\n",
        "    self.__name = name\n",
        "    self.__pre = pre\n",
        "    self.__mid = mid\n",
        "    self.__fin = fin\n",
        "  \n",
        "  def Grade(self):\n",
        "    return (self.__pre + self.__mid + self.__fin)/3\n",
        "\n",
        "  def display(self):\n",
        "    print(self.__name,self.__pre,self.__mid,self.__fin)\n",
        "    print(\"Term Grade:\",self.Grade())\n",
        "\n",
        "class Student1(Person):\n",
        "  pass\n",
        "class Student2(Person):\n",
        "  pass\n",
        "class Student3(Person):\n",
        "  pass\n",
        "  \n",
        "student1 = Student1(\"Student 1:\", 90,98,96)\n",
        "student1.display()\n",
        "student2 = Student2(\"Student 2:\", 80,86,89)\n",
        "student2.display()\n",
        "student3 = Student3(\"Student 3:\",70,76,78)\n",
        "student3.display()\n",
        "\n",
        "\n",
        "\n",
        "\n"
      ]
    }
  ]
}